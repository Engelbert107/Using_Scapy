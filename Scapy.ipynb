{
 "cells": [
  {
   "cell_type": "markdown",
   "metadata": {},
   "source": [
    "#  Computer Security 1"
   ]
  },
  {
   "cell_type": "markdown",
   "metadata": {},
   "source": [
    "\n",
    "## Group 2"
   ]
  },
  {
   "cell_type": "markdown",
   "metadata": {},
   "source": [
    "### Packets creation with Scapy"
   ]
  },
  {
   "cell_type": "code",
   "execution_count": 1,
   "metadata": {},
   "outputs": [],
   "source": [
    "import scapy\n",
    "import scapy.all as scapyall"
   ]
  },
  {
   "cell_type": "code",
   "execution_count": 2,
   "metadata": {},
   "outputs": [],
   "source": [
    "from scapy.all import send, sendp, sr, srp, IP, ICMP"
   ]
  },
  {
   "cell_type": "code",
   "execution_count": 3,
   "metadata": {},
   "outputs": [
    {
     "data": {
      "text/plain": [
       "<IP  frag=0 proto=icmp dst=Net('google.com') |<ICMP  |>>"
      ]
     },
     "execution_count": 3,
     "metadata": {},
     "output_type": "execute_result"
    }
   ],
   "source": [
    "packet_1 = IP(dst = \"google.com\")/ICMP()\n",
    "packet_1"
   ]
  },
  {
   "cell_type": "code",
   "execution_count": 4,
   "metadata": {},
   "outputs": [
    {
     "name": "stdout",
     "output_type": "stream",
     "text": [
      "###[ IP ]### \n",
      "  version   = 4\n",
      "  ihl       = None\n",
      "  tos       = 0x0\n",
      "  len       = None\n",
      "  id        = 1\n",
      "  flags     = \n",
      "  frag      = 0\n",
      "  ttl       = 64\n",
      "  proto     = icmp\n",
      "  chksum    = None\n",
      "  src       = 192.168.1.97\n",
      "  dst       = Net('google.com')\n",
      "  \\options   \\\n",
      "###[ ICMP ]### \n",
      "     type      = echo-request\n",
      "     code      = 0\n",
      "     chksum    = None\n",
      "     id        = 0x0\n",
      "     seq       = 0x0\n",
      "\n"
     ]
    }
   ],
   "source": [
    "packet_1.show()"
   ]
  },
  {
   "cell_type": "code",
   "execution_count": 5,
   "metadata": {},
   "outputs": [
    {
     "name": "stdout",
     "output_type": "stream",
     "text": [
      "###[ IP ]### \n",
      "  version   = 4\n",
      "  ihl       = None\n",
      "  tos       = 0x0\n",
      "  len       = None\n",
      "  id        = 1\n",
      "  flags     = \n",
      "  frag      = 0\n",
      "  ttl       = 64\n",
      "  proto     = icmp\n",
      "  chksum    = None\n",
      "  src       = 192.168.1.97\n",
      "  dst       = Net('google.com')\n",
      "  \\options   \\\n",
      "###[ ICMP ]### \n",
      "     type      = echo-request\n",
      "     code      = 0\n",
      "     chksum    = None\n",
      "     id        = 0x0\n",
      "     seq       = 0x0\n",
      "###[ Raw ]### \n",
      "        load      = 'Hello'\n",
      "\n"
     ]
    }
   ],
   "source": [
    "packet_2 = IP(dst = \"google.com\")/ICMP()/\"Hello\"\n",
    "packet_2.show()"
   ]
  },
  {
   "cell_type": "markdown",
   "metadata": {},
   "source": [
    "### Sending the packets with Scapy"
   ]
  },
  {
   "cell_type": "code",
   "execution_count": 6,
   "metadata": {},
   "outputs": [],
   "source": [
    "import sys\n",
    "from scapy.all import send, sendp, sr, sr1, srp, IP, ICMP, UDP, DNS, DNSQR, TCP, Ether"
   ]
  },
  {
   "cell_type": "code",
   "execution_count": 7,
   "metadata": {},
   "outputs": [
    {
     "name": "stdout",
     "output_type": "stream",
     "text": [
      "\n",
      "Sent 4 packets.\n"
     ]
    }
   ],
   "source": [
    "packet_1 = Ether()/IP(dst=\"172.16.73.24\",ttl=(1,4))\n",
    "sendp(packet_1)"
   ]
  },
  {
   "cell_type": "code",
   "execution_count": 8,
   "metadata": {},
   "outputs": [
    {
     "name": "stdout",
     "output_type": "stream",
     "text": [
      "\n",
      "Sent 1 packets.\n"
     ]
    }
   ],
   "source": [
    "packet_2 = IP(dst=\"192.168.30.45\")/ICMP()\n",
    "send(packet_2)"
   ]
  },
  {
   "cell_type": "markdown",
   "metadata": {},
   "source": [
    "### sending and receiving packets with Scapy"
   ]
  },
  {
   "cell_type": "code",
   "execution_count": 9,
   "metadata": {},
   "outputs": [],
   "source": [
    "packet_1 = (IP(dst=\"www.slashdot.org\")/ICMP()/\"Hi!\")"
   ]
  },
  {
   "cell_type": "code",
   "execution_count": 10,
   "metadata": {
    "scrolled": true
   },
   "outputs": [
    {
     "name": "stdout",
     "output_type": "stream",
     "text": [
      "Begin emission:\n",
      "Finished sending 1 packets.\n",
      "\n",
      "Received 6 packets, got 1 answers, remaining 0 packets\n"
     ]
    },
    {
     "data": {
      "text/plain": [
       "(<Results: TCP:0 UDP:0 ICMP:1 Other:0>,\n",
       " <Unanswered: TCP:0 UDP:0 ICMP:0 Other:0>)"
      ]
     },
     "execution_count": 10,
     "metadata": {},
     "output_type": "execute_result"
    }
   ],
   "source": [
    "sr(packet_1)"
   ]
  },
  {
   "cell_type": "code",
   "execution_count": 11,
   "metadata": {},
   "outputs": [
    {
     "name": "stdout",
     "output_type": "stream",
     "text": [
      "Begin emission:\n",
      "Finished sending 4 packets.\n",
      "\n",
      "Received 8 packets, got 4 answers, remaining 0 packets\n"
     ]
    },
    {
     "data": {
      "text/plain": [
       "(<Results: TCP:4 UDP:0 ICMP:0 Other:0>,\n",
       " <Unanswered: TCP:0 UDP:0 ICMP:0 Other:0>)"
      ]
     },
     "execution_count": 11,
     "metadata": {},
     "output_type": "execute_result"
    }
   ],
   "source": [
    "packet_2 = IP(dst=\"192.168.1.1\")/TCP(sport=666,dport=(440,443),flags=\"S\")\n",
    "sr(packet_2)"
   ]
  },
  {
   "cell_type": "code",
   "execution_count": 12,
   "metadata": {},
   "outputs": [
    {
     "name": "stdout",
     "output_type": "stream",
     "text": [
      "Begin emission:\n",
      "Finished sending 4 packets.\n",
      "\n",
      "Received 8 packets, got 4 answers, remaining 0 packets\n"
     ]
    },
    {
     "data": {
      "text/plain": [
       "<IP  version=4 ihl=5 tos=0x0 len=40 id=3101 flags=DF frag=0 ttl=64 proto=tcp chksum=0xab00 src=192.168.1.1 dst=192.168.1.97 |<TCP  sport=440 dport=doom seq=0 ack=1 dataofs=5 reserved=0 flags=RA window=0 chksum=0x27cb urgptr=0 |>>"
      ]
     },
     "execution_count": 12,
     "metadata": {},
     "output_type": "execute_result"
    }
   ],
   "source": [
    "packet_2 = IP(dst=\"192.168.1.1\")/TCP(sport=666,dport=(440,443),flags=\"S\")\n",
    "sr1(packet_2)"
   ]
  },
  {
   "cell_type": "code",
   "execution_count": 13,
   "metadata": {},
   "outputs": [
    {
     "name": "stdout",
     "output_type": "stream",
     "text": [
      "Begin emission:\n",
      "Finished sending 4 packets.\n",
      "\n",
      "Received 13 packets, got 4 answers, remaining 0 packets\n"
     ]
    }
   ],
   "source": [
    "ans, unans = sr(packet_2)"
   ]
  },
  {
   "cell_type": "code",
   "execution_count": 14,
   "metadata": {},
   "outputs": [
    {
     "data": {
      "text/plain": [
       "<Results: TCP:4 UDP:0 ICMP:0 Other:0>"
      ]
     },
     "execution_count": 14,
     "metadata": {},
     "output_type": "execute_result"
    }
   ],
   "source": [
    "ans"
   ]
  },
  {
   "cell_type": "code",
   "execution_count": 15,
   "metadata": {},
   "outputs": [
    {
     "data": {
      "text/plain": [
       "<Unanswered: TCP:0 UDP:0 ICMP:0 Other:0>"
      ]
     },
     "execution_count": 15,
     "metadata": {},
     "output_type": "execute_result"
    }
   ],
   "source": [
    "unans"
   ]
  },
  {
   "cell_type": "code",
   "execution_count": 16,
   "metadata": {},
   "outputs": [
    {
     "name": "stdout",
     "output_type": "stream",
     "text": [
      "IP / TCP 192.168.1.97:doom > 192.168.1.1:440 S ==> IP / TCP 192.168.1.1:440 > 192.168.1.97:doom RA\n",
      "IP / TCP 192.168.1.97:doom > 192.168.1.1:441 S ==> IP / TCP 192.168.1.1:441 > 192.168.1.97:doom RA\n",
      "IP / TCP 192.168.1.97:doom > 192.168.1.1:442 S ==> IP / TCP 192.168.1.1:442 > 192.168.1.97:doom RA\n",
      "IP / TCP 192.168.1.97:doom > 192.168.1.1:https S ==> IP / TCP 192.168.1.1:https > 192.168.1.97:doom SA\n"
     ]
    }
   ],
   "source": [
    "ans.summary()"
   ]
  },
  {
   "cell_type": "code",
   "execution_count": 17,
   "metadata": {},
   "outputs": [
    {
     "name": "stdout",
     "output_type": "stream",
     "text": [
      "\n",
      "Sent 1 packets.\n"
     ]
    }
   ],
   "source": [
    "packet_3 = IP(dst=\"172.16.6.7\",src=\"1.2.3.4\")/TCP(dport=80, flags=\"S\")\n",
    "sendp(packet_3)"
   ]
  },
  {
   "cell_type": "code",
   "execution_count": null,
   "metadata": {},
   "outputs": [],
   "source": [
    "packets_3_ = srp(packet_3, retry=4, timeout=1.5, filter=\"host 1.2.3.4 and port 80\")"
   ]
  },
  {
   "cell_type": "code",
   "execution_count": 19,
   "metadata": {},
   "outputs": [
    {
     "name": "stdout",
     "output_type": "stream",
     "text": [
      "Begin emission:\n",
      "Finished sending 1 packets.\n",
      "Begin emission:\n",
      "Finished sending 1 packets.\n",
      "Begin emission:\n",
      "Finished sending 1 packets.\n",
      "Begin emission:\n",
      "Finished sending 1 packets.\n",
      "Begin emission:\n",
      "Finished sending 1 packets.\n",
      "\n",
      "Received 0 packets, got 0 answers, remaining 1 packets\n"
     ]
    }
   ],
   "source": [
    " packets_3_ = srp(packet_3, retry=4, timeout=1.5, filter=\"port 80\")"
   ]
  },
  {
   "cell_type": "markdown",
   "metadata": {},
   "source": [
    "### Capturing packets with Scapy "
   ]
  },
  {
   "cell_type": "code",
   "execution_count": 1,
   "metadata": {},
   "outputs": [],
   "source": [
    "from scapy.all import *\n",
    "import netifaces"
   ]
  },
  {
   "cell_type": "code",
   "execution_count": 2,
   "metadata": {},
   "outputs": [],
   "source": [
    "sniffed_packets = sniff(count = 10)"
   ]
  },
  {
   "cell_type": "code",
   "execution_count": 3,
   "metadata": {},
   "outputs": [
    {
     "data": {
      "text/plain": [
       "<Sniffed: TCP:0 UDP:2 ICMP:0 Other:8>"
      ]
     },
     "execution_count": 3,
     "metadata": {},
     "output_type": "execute_result"
    }
   ],
   "source": [
    "sniffed_packets"
   ]
  },
  {
   "cell_type": "code",
   "execution_count": 5,
   "metadata": {},
   "outputs": [
    {
     "name": "stdout",
     "output_type": "stream",
     "text": [
      "0000 Ether / ARP who has 192.168.1.40 says 192.168.1.1 / Padding\n",
      "0001 Ether / ARP who has 192.168.1.40 says 192.168.1.1 / Padding\n",
      "0002 Ether / ARP who has 192.168.1.25 says 192.168.1.1 / Padding\n",
      "0003 Ether / ARP who has 192.168.1.40 says 192.168.1.1 / Padding\n",
      "0004 Ether / ARP who has 192.168.1.25 says 192.168.1.1 / Padding\n",
      "0005 Ether / ARP who has 192.168.1.40 says 192.168.1.1 / Padding\n",
      "0006 Ether / IP / UDP 192.168.1.19:58598 > 239.255.255.250:ssdp / Raw\n",
      "0007 Ether / ARP who has 192.168.1.25 says 192.168.1.1 / Padding\n",
      "0008 Ether / ARP who has 192.168.1.40 says 192.168.1.1 / Padding\n",
      "0009 Ether / IP / UDP 192.168.1.19:58598 > 239.255.255.250:ssdp / Raw\n"
     ]
    }
   ],
   "source": [
    "sniffed_packets.show()"
   ]
  },
  {
   "cell_type": "code",
   "execution_count": 6,
   "metadata": {},
   "outputs": [
    {
     "data": {
      "text/plain": [
       "<Ether  dst=ff:ff:ff:ff:ff:ff src=1c:5f:2b:a9:df:bf type=ARP |<ARP  hwtype=0x1 ptype=IPv4 hwlen=6 plen=4 op=who-has hwsrc=1c:5f:2b:a9:df:bf psrc=192.168.1.1 hwdst=00:00:00:00:00:00 pdst=192.168.1.40 |<Padding  load='AIMS\\x00\\x00\\x00\\x03\\x00\\x00\\x00\\x00\\x00\\x00\\x00\\x00\\x00\\x00' |>>>"
      ]
     },
     "execution_count": 6,
     "metadata": {},
     "output_type": "execute_result"
    }
   ],
   "source": [
    "sniffed_packets[0]"
   ]
  },
  {
   "cell_type": "code",
   "execution_count": 26,
   "metadata": {},
   "outputs": [
    {
     "name": "stdout",
     "output_type": "stream",
     "text": [
      "###[ Ethernet ]### \n",
      "  dst       = ff:ff:ff:ff:ff:ff\n",
      "  src       = 60:38:e0:cb:5e:c8\n",
      "  type      = ARP\n",
      "###[ ARP ]### \n",
      "     hwtype    = 0x1\n",
      "     ptype     = IPv4\n",
      "     hwlen     = 6\n",
      "     plen      = 4\n",
      "     op        = who-has\n",
      "     hwsrc     = 60:38:e0:cb:5e:c8\n",
      "     psrc      = 192.168.1.1\n",
      "     hwdst     = 00:00:00:00:00:00\n",
      "     pdst      = 192.168.1.138\n",
      "\n"
     ]
    }
   ],
   "source": [
    "sniffed_packets[0].show()"
   ]
  },
  {
   "cell_type": "code",
   "execution_count": 27,
   "metadata": {},
   "outputs": [],
   "source": [
    "sniffed_packets = sniff(count = 100)"
   ]
  },
  {
   "cell_type": "code",
   "execution_count": 28,
   "metadata": {},
   "outputs": [
    {
     "data": {
      "text/plain": [
       "<Sniffed: TCP:0 UDP:40 ICMP:0 Other:60>"
      ]
     },
     "execution_count": 28,
     "metadata": {},
     "output_type": "execute_result"
    }
   ],
   "source": [
    "sniffed_packets"
   ]
  },
  {
   "cell_type": "code",
   "execution_count": 29,
   "metadata": {},
   "outputs": [
    {
     "name": "stdout",
     "output_type": "stream",
     "text": [
      "0000 Ether / IP / UDP / DNS Qry \"b'_sane-port._tcp.local.'\" \n",
      "0001 Ether / ARP who has 192.168.1.224 says 192.168.1.1\n",
      "0002 Ether / ARP who has 192.168.1.99 says 192.168.1.1\n",
      "0003 Ether / ARP who has 192.168.1.185 says 192.168.1.1\n",
      "0004 Ether / IP / UDP 192.168.1.172:50599 > 239.255.255.250:ssdp / Raw\n",
      "0005 Ether / IPv6 / ICMPv6ND_RS / ICMPv6 Neighbor Discovery Option - Source Link-Layer Address 70:9f:a9:69:29:dd\n",
      "0006 Ether / ARP who has 192.168.1.224 says 192.168.1.1\n",
      "0007 Ether / ARP who has 192.168.1.99 says 192.168.1.1\n",
      "0008 Ether / IP / UDP 192.168.1.172:50599 > 239.255.255.250:ssdp / Raw\n",
      "0009 Ether / IP / UDP 192.168.1.162:51140 > 239.255.255.250:ssdp / Raw\n",
      "0010 Ether / ARP who has 192.168.1.224 says 192.168.1.1\n",
      "0011 Ether / ARP who has 192.168.1.99 says 192.168.1.1\n",
      "0012 Ether / IP / UDP 192.168.1.172:50599 > 239.255.255.250:ssdp / Raw\n",
      "0013 Ether / IP / UDP 192.168.1.50:52762 > 239.255.255.250:ssdp / Raw\n",
      "0014 Ether / ARP who has 192.168.1.99 says 192.168.1.1\n",
      "0015 Ether / ARP who has 192.168.1.1 says 192.168.1.239\n",
      "0016 Ether / IP / UDP 192.168.1.172:50599 > 239.255.255.250:ssdp / Raw\n",
      "0017 Ether / IP / UDP 192.168.1.50:52762 > 239.255.255.250:ssdp / Raw\n",
      "0018 Ether / ARP who has 192.168.1.224 says 192.168.1.1\n",
      "0019 Ether / IPv6 / UDP / DNS Qry \"b'_ftp._tcp.local.'\" \n",
      "0020 Ether / IP / UDP / DNS Qry \"b'_ftp._tcp.local.'\" \n",
      "0021 Ether / IP / UDP 192.168.1.162:51140 > 239.255.255.250:ssdp / Raw\n",
      "0022 Ether / IP / UDP 192.168.1.50:52762 > 239.255.255.250:ssdp / Raw\n",
      "0023 Ether / ARP who has 192.168.1.99 says 192.168.1.1\n",
      "0024 Ether / IP / UDP / DNS Qry \"b'_37F83649._sub._googlecast._tcp.local.'\" \n",
      "0025 Ether / ARP who has 192.168.1.224 says 192.168.1.1\n",
      "0026 Ether / IP / UDP 192.168.1.50:52762 > 239.255.255.250:ssdp / Raw\n",
      "0027 Ether / ARP who has 192.168.1.99 says 192.168.1.1\n",
      "0028 Ether / ARP who has 192.168.1.224 says 192.168.1.1\n",
      "0029 Ether / ARP who has 192.168.1.99 says 192.168.1.1\n",
      "0030 Ether / ARP who has 192.168.1.99 says 192.168.1.1\n",
      "0031 Ether / ARP who has 192.168.1.224 says 192.168.1.1\n",
      "0032 Ether / ARP who has 192.168.1.99 says 192.168.1.1\n",
      "0033 Ether / ARP who has 192.168.1.152 says 192.168.1.1\n",
      "0034 Ether / ARP who has 192.168.1.224 says 192.168.1.1\n",
      "0035 Ether / IP / UDP 192.168.1.58:35677 > 239.255.255.250:ssdp / Raw\n",
      "0036 Ether / ARP who has 192.168.1.99 says 192.168.1.1\n",
      "0037 Ether / ARP who has 192.168.1.152 says 192.168.1.1\n",
      "0038 Ether / IP / UDP 192.168.1.58:35677 > 239.255.255.250:ssdp / Raw\n",
      "0039 Ether / ARP who has 192.168.1.99 says 192.168.1.1\n",
      "0040 Ether / ARP who has 192.168.1.152 says 192.168.1.1\n",
      "0041 Ether / ARP who has 192.168.1.99 says 192.168.1.1\n",
      "0042 Ether / ARP who has 192.168.1.224 says 192.168.1.1\n",
      "0043 Ether / IP / UDP 192.168.1.58:35677 > 239.255.255.250:ssdp / Raw\n",
      "0044 Ether / ARP who has 192.168.1.99 says 192.168.1.1\n",
      "0045 Ether / ARP who has 192.168.1.224 says 192.168.1.1\n",
      "0046 Ether / IP / UDP 192.168.1.58:35677 > 239.255.255.250:ssdp / Raw\n",
      "0047 Ether / ARP who has 192.168.1.99 says 192.168.1.1\n",
      "0048 Ether / ARP who has 192.168.1.224 says 192.168.1.1\n",
      "0049 Ether / ARP who has 192.168.1.99 says 192.168.1.1\n",
      "0050 Ether / ARP who has 192.168.1.136 says 192.168.1.1\n",
      "0051 Ether / ARP who has 192.168.1.99 says 192.168.1.1\n",
      "0052 Ether / IP / UDP 192.168.1.86:41798 > 239.255.255.250:ssdp / Raw\n",
      "0053 Ether / IP / UDP 192.168.1.115:36169 > 239.255.255.250:ssdp / Raw\n",
      "0054 Ether / ARP who has 192.168.1.224 says 192.168.1.1\n",
      "0055 Ether / IP / UDP 192.168.1.86:41798 > 239.255.255.250:ssdp / Raw\n",
      "0056 Ether / IP / UDP 192.168.1.115:36169 > 239.255.255.250:ssdp / Raw\n",
      "0057 Ether / ARP who has 192.168.1.99 says 192.168.1.1\n",
      "0058 Ether / IPv6 / UDP fe80::89f3:d32c:ad38:23f2:dhcpv6_client > ff02::1:2:dhcpv6_server / DHCP6_Solicit / DHCP6OptElapsedTime / DHCP6OptClientId / DHCP6OptIA_NA / DHCP6OptClientFQDN / DHCP6OptVendorClass / DHCP6OptOptReq\n",
      "0059 Ether / IPv6 / ICMPv6ND_NS / ICMPv6 Neighbor Discovery Option - Source Link-Layer Address 60:38:e0:cb:5e:c8\n",
      "0060 Ether / ARP who has 192.168.1.224 says 192.168.1.1\n",
      "0061 Ether / IP / UDP 192.168.1.86:41798 > 239.255.255.250:ssdp / Raw\n",
      "0062 Ether / IP / UDP 192.168.1.128:42381 > 239.255.255.250:ssdp / Raw\n",
      "0063 Ether / IP / UDP 192.168.1.115:36169 > 239.255.255.250:ssdp / Raw\n",
      "0064 Ether / ARP who has 192.168.1.99 says 192.168.1.1\n",
      "0065 Ether / IPv6 / UDP fe80::89f3:d32c:ad38:23f2:dhcpv6_client > ff02::1:2:dhcpv6_server / DHCP6_Solicit / DHCP6OptElapsedTime / DHCP6OptClientId / DHCP6OptIA_NA / DHCP6OptClientFQDN / DHCP6OptVendorClass / DHCP6OptOptReq\n",
      "0066 Ether / ARP who has 192.168.1.136 says 192.168.1.1\n",
      "0067 Ether / IP / UDP 192.168.1.86:41798 > 239.255.255.250:ssdp / Raw\n",
      "0068 Ether / IP / UDP 192.168.1.128:42381 > 239.255.255.250:ssdp / Raw\n",
      "0069 Ether / ARP who has 192.168.1.99 says 192.168.1.1\n",
      "0070 Ether / IP / UDP 192.168.1.115:36169 > 239.255.255.250:ssdp / Raw\n",
      "0071 Ether / IPv6 / ICMPv6ND_NS / ICMPv6 Neighbor Discovery Option - Source Link-Layer Address 60:38:e0:cb:5e:c8\n",
      "0072 Ether / ARP who has 192.168.1.136 says 192.168.1.1\n",
      "0073 Ether / IP / UDP 192.168.1.128:42381 > 239.255.255.250:ssdp / Raw\n",
      "0074 Ether / ARP who has 192.168.1.99 says 192.168.1.1\n",
      "0075 Ether / IPv6 / UDP fe80::89f3:d32c:ad38:23f2:dhcpv6_client > ff02::1:2:dhcpv6_server / DHCP6_Solicit / DHCP6OptElapsedTime / DHCP6OptClientId / DHCP6OptIA_NA / DHCP6OptClientFQDN / DHCP6OptVendorClass / DHCP6OptOptReq\n",
      "0076 Ether / IPv6 / ICMPv6ND_NS / ICMPv6 Neighbor Discovery Option - Source Link-Layer Address 60:38:e0:cb:5e:c8\n",
      "0077 Ether / ARP who has 192.168.1.67 says 192.168.1.1\n",
      "0078 Ether / ARP who has 192.168.1.99 says 192.168.1.1\n",
      "0079 Ether / ARP who has 192.168.1.224 says 192.168.1.1\n",
      "0080 Ether / IP / UDP 192.168.1.128:42381 > 239.255.255.250:ssdp / Raw\n",
      "0081 Ether / IPv6 / ICMPv6ND_NS / ICMPv6 Neighbor Discovery Option - Source Link-Layer Address 60:38:e0:cb:5e:c8\n",
      "0082 Ether / ARP who has 192.168.1.67 says 192.168.1.1\n",
      "0083 Ether / ARP who has 192.168.1.99 says 192.168.1.1\n",
      "0084 Ether / ARP who has 192.168.1.224 says 192.168.1.1\n",
      "0085 Ether / IPv6 / ICMPv6ND_NS / ICMPv6 Neighbor Discovery Option - Source Link-Layer Address 60:38:e0:cb:5e:c8\n",
      "0086 Ether / IP / UDP 192.168.1.153:38075 > 239.255.255.250:ssdp / Raw\n",
      "0087 Ether / ARP who has 192.168.1.99 says 192.168.1.1\n",
      "0088 Ether / ARP who has 192.168.1.152 says 192.168.1.1\n",
      "0089 Ether / IP / UDP / DNS Qry \"b'_37F83649._sub._googlecast._tcp.local.'\" \n",
      "0090 Ether / ARP who has 192.168.1.136 says 192.168.1.1\n",
      "0091 Ether / IP / UDP 192.168.1.153:38075 > 239.255.255.250:ssdp / Raw\n",
      "0092 Ether / IP / UDP 192.168.1.173:54029 > 239.255.255.250:ssdp / Raw\n",
      "0093 Ether / ARP who has 192.168.1.99 says 192.168.1.1\n",
      "0094 Ether / ARP who has 192.168.1.136 says 192.168.1.1\n",
      "0095 Ether / IPv6 / UDP fe80::89f3:d32c:ad38:23f2:dhcpv6_client > ff02::1:2:dhcpv6_server / DHCP6_Solicit / DHCP6OptElapsedTime / DHCP6OptClientId / DHCP6OptIA_NA / DHCP6OptClientFQDN / DHCP6OptVendorClass / DHCP6OptOptReq\n",
      "0096 Ether / IP / UDP 192.168.1.153:38075 > 239.255.255.250:ssdp / Raw\n",
      "0097 Ether / IP / UDP 192.168.1.173:54029 > 239.255.255.250:ssdp / Raw\n",
      "0098 Ether / ARP who has 192.168.1.99 says 192.168.1.1\n",
      "0099 Ether / ARP who has 192.168.1.152 says 192.168.1.1\n"
     ]
    }
   ],
   "source": [
    "sniffed_packets.show()"
   ]
  },
  {
   "cell_type": "code",
   "execution_count": 40,
   "metadata": {},
   "outputs": [
    {
     "data": {
      "text/plain": [
       "<Ether  dst=b0:fc:36:6c:83:27 src=bc:85:56:86:a5:e5 type=IPv4 |<IP  version=4 ihl=5 tos=0x0 len=282 id=21068 flags= frag=0 ttl=255 proto=udp chksum=0xc5ab src=192.168.1.55 dst=224.0.0.251 |<UDP  sport=5353 dport=5353 len=262 chksum=0xe81b |<DNS  id=0 qr=1 opcode=QUERY aa=1 tc=0 rd=0 ra=0 z=0 ad=0 cd=0 rcode=ok qdcount=0 ancount=4 nscount=0 arcount=3 qd=None an=<DNSRR  rrname='55.1.168.192.in-addr.arpa.' type=PTR rclass=32769 ttl=120 rdlen=None rdata='DESKTOP-P3T74F4.local.' |<DNSRR  rrname='B.5.8.9.2.8.7.D.6.F.D.D.7.C.1.C.0.0.0.0.0.0.0.0.0.0.0.0.0.8.E.F.ip6.arpa.' type=PTR rclass=32769 ttl=120 rdlen=None rdata='DESKTOP-P3T74F4.local.' |<DNSRR  rrname='DESKTOP-P3T74F4.local.' type=A rclass=32769 ttl=120 rdlen=None rdata=192.168.1.55 |<DNSRR  rrname='DESKTOP-P3T74F4.local.' type=AAAA rclass=32769 ttl=120 rdlen=None rdata=fe80::c1c7:ddf6:d782:985b |>>>> ns=None ar=<DNSRRNSEC  rrname='55.1.168.192.in-addr.arpa.' type=NSEC rclass=32769 ttl=120 rdlen=None nextname='55.1.168.192.in-addr.arpa.' typebitmaps=['PTR'] |<DNSRRNSEC  rrname='B.5.8.9.2.8.7.D.6.F.D.D.7.C.1.C.0.0.0.0.0.0.0.0.0.0.0.0.0.8.E.F.ip6.arpa.' type=NSEC rclass=32769 ttl=120 rdlen=None nextname='B.5.8.9.2.8.7.D.6.F.D.D.7.C.1.C.0.0.0.0.0.0.0.0.0.0.0.0.0.8.E.F.ip6.arpa.' typebitmaps=['PTR'] |<DNSRRNSEC  rrname='DESKTOP-P3T74F4.local.' type=NSEC rclass=32769 ttl=120 rdlen=None nextname='DESKTOP-P3T74F4.local.' typebitmaps=['A', 'AAAA'] |>>> |>>>>"
      ]
     },
     "execution_count": 40,
     "metadata": {},
     "output_type": "execute_result"
    }
   ],
   "source": [
    "sniffed_packets[0]"
   ]
  },
  {
   "cell_type": "code",
   "execution_count": 30,
   "metadata": {},
   "outputs": [
    {
     "data": {
      "text/plain": [
       "<Ether  dst=ff:ff:ff:ff:ff:ff src=60:38:e0:cb:5e:c8 type=ARP |<ARP  hwtype=0x1 ptype=IPv4 hwlen=6 plen=4 op=who-has hwsrc=60:38:e0:cb:5e:c8 psrc=192.168.1.1 hwdst=00:00:00:00:00:00 pdst=192.168.1.224 |>>"
      ]
     },
     "execution_count": 30,
     "metadata": {},
     "output_type": "execute_result"
    }
   ],
   "source": [
    "sniffed_packets[1]"
   ]
  },
  {
   "cell_type": "code",
   "execution_count": 31,
   "metadata": {},
   "outputs": [
    {
     "name": "stdout",
     "output_type": "stream",
     "text": [
      "###[ Ethernet ]### \n",
      "  dst       = 01:00:5e:00:00:fb\n",
      "  src       = 28:3a:4d:8e:f8:e7\n",
      "  type      = IPv4\n",
      "###[ IP ]### \n",
      "     version   = 4\n",
      "     ihl       = 5\n",
      "     tos       = 0x0\n",
      "     len       = 67\n",
      "     id        = 10597\n",
      "     flags     = DF\n",
      "     frag      = 0\n",
      "     ttl       = 255\n",
      "     proto     = udp\n",
      "     chksum    = 0xaf6c\n",
      "     src       = 192.168.1.52\n",
      "     dst       = 224.0.0.251\n",
      "     \\options   \\\n",
      "###[ UDP ]### \n",
      "        sport     = 5353\n",
      "        dport     = 5353\n",
      "        len       = 47\n",
      "        chksum    = 0x8fb7\n",
      "###[ DNS ]### \n",
      "           id        = 0\n",
      "           qr        = 0\n",
      "           opcode    = QUERY\n",
      "           aa        = 0\n",
      "           tc        = 0\n",
      "           rd        = 0\n",
      "           ra        = 0\n",
      "           z         = 0\n",
      "           ad        = 0\n",
      "           cd        = 0\n",
      "           rcode     = ok\n",
      "           qdcount   = 1\n",
      "           ancount   = 0\n",
      "           nscount   = 0\n",
      "           arcount   = 0\n",
      "           \\qd        \\\n",
      "            |###[ DNS Question Record ]### \n",
      "            |  qname     = '_sane-port._tcp.local.'\n",
      "            |  qtype     = PTR\n",
      "            |  qclass    = IN\n",
      "           an        = None\n",
      "           ns        = None\n",
      "           ar        = None\n",
      "\n"
     ]
    }
   ],
   "source": [
    "sniffed_packets[0].show()"
   ]
  },
  {
   "cell_type": "code",
   "execution_count": 32,
   "metadata": {},
   "outputs": [
    {
     "data": {
      "text/plain": [
       "<UDP  sport=5353 dport=5353 len=47 chksum=0x8fb7 |<DNS  id=0 qr=0 opcode=QUERY aa=0 tc=0 rd=0 ra=0 z=0 ad=0 cd=0 rcode=ok qdcount=1 ancount=0 nscount=0 arcount=0 qd=<DNSQR  qname='_sane-port._tcp.local.' qtype=PTR qclass=IN |> an=None ns=None ar=None |>>"
      ]
     },
     "execution_count": 32,
     "metadata": {},
     "output_type": "execute_result"
    }
   ],
   "source": [
    "sniffed_packets[0][UDP]"
   ]
  },
  {
   "cell_type": "code",
   "execution_count": 45,
   "metadata": {},
   "outputs": [
    {
     "name": "stdout",
     "output_type": "stream",
     "text": [
      "###[ UDP ]### \n",
      "  sport     = 5353\n",
      "  dport     = 5353\n",
      "  len       = 262\n",
      "  chksum    = 0xe81b\n",
      "###[ DNS ]### \n",
      "     id        = 0\n",
      "     qr        = 1\n",
      "     opcode    = QUERY\n",
      "     aa        = 1\n",
      "     tc        = 0\n",
      "     rd        = 0\n",
      "     ra        = 0\n",
      "     z         = 0\n",
      "     ad        = 0\n",
      "     cd        = 0\n",
      "     rcode     = ok\n",
      "     qdcount   = 0\n",
      "     ancount   = 4\n",
      "     nscount   = 0\n",
      "     arcount   = 3\n",
      "     qd        = None\n",
      "     \\an        \\\n",
      "      |###[ DNS Resource Record ]### \n",
      "      |  rrname    = '55.1.168.192.in-addr.arpa.'\n",
      "      |  type      = PTR\n",
      "      |  rclass    = 32769\n",
      "      |  ttl       = 120\n",
      "      |  rdlen     = None\n",
      "      |  rdata     = 'DESKTOP-P3T74F4.local.'\n",
      "      |###[ DNS Resource Record ]### \n",
      "      |  rrname    = 'B.5.8.9.2.8.7.D.6.F.D.D.7.C.1.C.0.0.0.0.0.0.0.0.0.0.0.0.0.8.E.F.ip6.arpa.'\n",
      "      |  type      = PTR\n",
      "      |  rclass    = 32769\n",
      "      |  ttl       = 120\n",
      "      |  rdlen     = None\n",
      "      |  rdata     = 'DESKTOP-P3T74F4.local.'\n",
      "      |###[ DNS Resource Record ]### \n",
      "      |  rrname    = 'DESKTOP-P3T74F4.local.'\n",
      "      |  type      = A\n",
      "      |  rclass    = 32769\n",
      "      |  ttl       = 120\n",
      "      |  rdlen     = None\n",
      "      |  rdata     = 192.168.1.55\n",
      "      |###[ DNS Resource Record ]### \n",
      "      |  rrname    = 'DESKTOP-P3T74F4.local.'\n",
      "      |  type      = AAAA\n",
      "      |  rclass    = 32769\n",
      "      |  ttl       = 120\n",
      "      |  rdlen     = None\n",
      "      |  rdata     = fe80::c1c7:ddf6:d782:985b\n",
      "     ns        = None\n",
      "     \\ar        \\\n",
      "      |###[ DNS NSEC Resource Record ]### \n",
      "      |  rrname    = '55.1.168.192.in-addr.arpa.'\n",
      "      |  type      = NSEC\n",
      "      |  rclass    = 32769\n",
      "      |  ttl       = 120\n",
      "      |  rdlen     = None\n",
      "      |  nextname  = '55.1.168.192.in-addr.arpa.'\n",
      "      |  typebitmaps= ['PTR']\n",
      "      |###[ DNS NSEC Resource Record ]### \n",
      "      |     rrname    = 'B.5.8.9.2.8.7.D.6.F.D.D.7.C.1.C.0.0.0.0.0.0.0.0.0.0.0.0.0.8.E.F.ip6.arpa.'\n",
      "      |     type      = NSEC\n",
      "      |     rclass    = 32769\n",
      "      |     ttl       = 120\n",
      "      |     rdlen     = None\n",
      "      |     nextname  = 'B.5.8.9.2.8.7.D.6.F.D.D.7.C.1.C.0.0.0.0.0.0.0.0.0.0.0.0.0.8.E.F.ip6.arpa.'\n",
      "      |     typebitmaps= ['PTR']\n",
      "      |###[ DNS NSEC Resource Record ]### \n",
      "      |        rrname    = 'DESKTOP-P3T74F4.local.'\n",
      "      |        type      = NSEC\n",
      "      |        rclass    = 32769\n",
      "      |        ttl       = 120\n",
      "      |        rdlen     = None\n",
      "      |        nextname  = 'DESKTOP-P3T74F4.local.'\n",
      "      |        typebitmaps= ['A', 'AAAA']\n",
      "\n"
     ]
    }
   ],
   "source": [
    "sniffed_packets[0][UDP].show()"
   ]
  },
  {
   "cell_type": "code",
   "execution_count": 35,
   "metadata": {},
   "outputs": [
    {
     "data": {
      "text/plain": [
       "<DNS from Sniffed: TCP:0 UDP:5 ICMP:0 Other:0>"
      ]
     },
     "execution_count": 35,
     "metadata": {},
     "output_type": "execute_result"
    }
   ],
   "source": [
    "sniffed_packets[DNS]"
   ]
  },
  {
   "cell_type": "code",
   "execution_count": 36,
   "metadata": {},
   "outputs": [
    {
     "name": "stdout",
     "output_type": "stream",
     "text": [
      "0000 Ether / IP / UDP / DNS Qry \"b'_sane-port._tcp.local.'\" \n",
      "0001 Ether / IPv6 / UDP / DNS Qry \"b'_ftp._tcp.local.'\" \n",
      "0002 Ether / IP / UDP / DNS Qry \"b'_ftp._tcp.local.'\" \n",
      "0003 Ether / IP / UDP / DNS Qry \"b'_37F83649._sub._googlecast._tcp.local.'\" \n",
      "0004 Ether / IP / UDP / DNS Qry \"b'_37F83649._sub._googlecast._tcp.local.'\" \n"
     ]
    }
   ],
   "source": [
    "sniffed_packets[DNS].show()"
   ]
  },
  {
   "cell_type": "code",
   "execution_count": null,
   "metadata": {},
   "outputs": [],
   "source": []
  },
  {
   "cell_type": "code",
   "execution_count": 37,
   "metadata": {},
   "outputs": [],
   "source": [
    "tcp_segment = sniffed_packets[DNS]"
   ]
  },
  {
   "cell_type": "code",
   "execution_count": 38,
   "metadata": {},
   "outputs": [
    {
     "ename": "AttributeError",
     "evalue": "'list' object has no attribute 'payload'",
     "output_type": "error",
     "traceback": [
      "\u001b[1;31m---------------------------------------------------------------------------\u001b[0m",
      "\u001b[1;31mAttributeError\u001b[0m                            Traceback (most recent call last)",
      "\u001b[1;32m<ipython-input-38-dbe991a2459f>\u001b[0m in \u001b[0;36m<module>\u001b[1;34m\u001b[0m\n\u001b[1;32m----> 1\u001b[1;33m \u001b[0mtcp_segment\u001b[0m\u001b[1;33m.\u001b[0m\u001b[0mpayload\u001b[0m\u001b[1;33m\u001b[0m\u001b[1;33m\u001b[0m\u001b[0m\n\u001b[0m",
      "\u001b[1;32m~\\Downloads\\Python-security-tuto\\scapy\\plist.py\u001b[0m in \u001b[0;36m__getattr__\u001b[1;34m(self, attr)\u001b[0m\n\u001b[0;32m    122\u001b[0m     \u001b[1;32mdef\u001b[0m \u001b[0m__getattr__\u001b[0m\u001b[1;33m(\u001b[0m\u001b[0mself\u001b[0m\u001b[1;33m,\u001b[0m \u001b[0mattr\u001b[0m\u001b[1;33m)\u001b[0m\u001b[1;33m:\u001b[0m\u001b[1;33m\u001b[0m\u001b[1;33m\u001b[0m\u001b[0m\n\u001b[0;32m    123\u001b[0m         \u001b[1;31m# type: (str) -> Any\u001b[0m\u001b[1;33m\u001b[0m\u001b[1;33m\u001b[0m\u001b[1;33m\u001b[0m\u001b[0m\n\u001b[1;32m--> 124\u001b[1;33m         \u001b[1;32mreturn\u001b[0m \u001b[0mgetattr\u001b[0m\u001b[1;33m(\u001b[0m\u001b[0mself\u001b[0m\u001b[1;33m.\u001b[0m\u001b[0mres\u001b[0m\u001b[1;33m,\u001b[0m \u001b[0mattr\u001b[0m\u001b[1;33m)\u001b[0m\u001b[1;33m\u001b[0m\u001b[1;33m\u001b[0m\u001b[0m\n\u001b[0m\u001b[0;32m    125\u001b[0m \u001b[1;33m\u001b[0m\u001b[0m\n\u001b[0;32m    126\u001b[0m     \u001b[1;32mdef\u001b[0m \u001b[0m__getitem__\u001b[0m\u001b[1;33m(\u001b[0m\u001b[0mself\u001b[0m\u001b[1;33m,\u001b[0m \u001b[0mitem\u001b[0m\u001b[1;33m)\u001b[0m\u001b[1;33m:\u001b[0m\u001b[1;33m\u001b[0m\u001b[1;33m\u001b[0m\u001b[0m\n",
      "\u001b[1;31mAttributeError\u001b[0m: 'list' object has no attribute 'payload'"
     ]
    }
   ],
   "source": [
    "tcp_segment.payload"
   ]
  },
  {
   "cell_type": "code",
   "execution_count": 39,
   "metadata": {},
   "outputs": [
    {
     "ename": "AttributeError",
     "evalue": "'list' object has no attribute 'fields'",
     "output_type": "error",
     "traceback": [
      "\u001b[1;31m---------------------------------------------------------------------------\u001b[0m",
      "\u001b[1;31mAttributeError\u001b[0m                            Traceback (most recent call last)",
      "\u001b[1;32m<ipython-input-39-d25d9075ad70>\u001b[0m in \u001b[0;36m<module>\u001b[1;34m\u001b[0m\n\u001b[1;32m----> 1\u001b[1;33m \u001b[0mtcp_segment\u001b[0m\u001b[1;33m.\u001b[0m\u001b[0mfields\u001b[0m\u001b[1;33m\u001b[0m\u001b[1;33m\u001b[0m\u001b[0m\n\u001b[0m",
      "\u001b[1;32m~\\Downloads\\Python-security-tuto\\scapy\\plist.py\u001b[0m in \u001b[0;36m__getattr__\u001b[1;34m(self, attr)\u001b[0m\n\u001b[0;32m    122\u001b[0m     \u001b[1;32mdef\u001b[0m \u001b[0m__getattr__\u001b[0m\u001b[1;33m(\u001b[0m\u001b[0mself\u001b[0m\u001b[1;33m,\u001b[0m \u001b[0mattr\u001b[0m\u001b[1;33m)\u001b[0m\u001b[1;33m:\u001b[0m\u001b[1;33m\u001b[0m\u001b[1;33m\u001b[0m\u001b[0m\n\u001b[0;32m    123\u001b[0m         \u001b[1;31m# type: (str) -> Any\u001b[0m\u001b[1;33m\u001b[0m\u001b[1;33m\u001b[0m\u001b[1;33m\u001b[0m\u001b[0m\n\u001b[1;32m--> 124\u001b[1;33m         \u001b[1;32mreturn\u001b[0m \u001b[0mgetattr\u001b[0m\u001b[1;33m(\u001b[0m\u001b[0mself\u001b[0m\u001b[1;33m.\u001b[0m\u001b[0mres\u001b[0m\u001b[1;33m,\u001b[0m \u001b[0mattr\u001b[0m\u001b[1;33m)\u001b[0m\u001b[1;33m\u001b[0m\u001b[1;33m\u001b[0m\u001b[0m\n\u001b[0m\u001b[0;32m    125\u001b[0m \u001b[1;33m\u001b[0m\u001b[0m\n\u001b[0;32m    126\u001b[0m     \u001b[1;32mdef\u001b[0m \u001b[0m__getitem__\u001b[0m\u001b[1;33m(\u001b[0m\u001b[0mself\u001b[0m\u001b[1;33m,\u001b[0m \u001b[0mitem\u001b[0m\u001b[1;33m)\u001b[0m\u001b[1;33m:\u001b[0m\u001b[1;33m\u001b[0m\u001b[1;33m\u001b[0m\u001b[0m\n",
      "\u001b[1;31mAttributeError\u001b[0m: 'list' object has no attribute 'fields'"
     ]
    }
   ],
   "source": [
    "tcp_segment.fields"
   ]
  },
  {
   "cell_type": "code",
   "execution_count": null,
   "metadata": {},
   "outputs": [],
   "source": []
  },
  {
   "cell_type": "code",
   "execution_count": 40,
   "metadata": {},
   "outputs": [
    {
     "data": {
      "text/plain": [
       "['{772E5191-626A-49F3-BDCD-0866FFFC1F45}',\n",
       " '{E439A95A-2075-4DD9-B5C4-2ACCB5DCD695}',\n",
       " '{22B495B6-FB7D-491D-AC0A-83E4E3EA84F6}',\n",
       " '{387CDE24-FA9C-4C46-8182-AC7F3665AC31}',\n",
       " '{654DD818-2C24-4C65-9247-C5942AA32187}',\n",
       " '{367751C4-618B-4395-B4D0-74FD88CD2655}',\n",
       " '{A7CC4605-FFD0-11E9-83E4-806E6F6E6963}']"
      ]
     },
     "execution_count": 40,
     "metadata": {},
     "output_type": "execute_result"
    }
   ],
   "source": [
    "interface_all = netifaces.interfaces()\n",
    "interface_all"
   ]
  },
  {
   "cell_type": "code",
   "execution_count": 41,
   "metadata": {},
   "outputs": [
    {
     "data": {
      "text/plain": [
       "{-1000: [{'addr': '8c:16:45:9e:fe:91'}],\n",
       " 23: [{'addr': 'fe80::3853:1e6:54f:8803%9',\n",
       "   'netmask': 'ffff:ffff:ffff:ffff::/64',\n",
       "   'broadcast': 'fe80::ffff:ffff:ffff:ffff%9'}]}"
      ]
     },
     "execution_count": 41,
     "metadata": {},
     "output_type": "execute_result"
    }
   ],
   "source": [
    "netifaces.ifaddresses('{772E5191-626A-49F3-BDCD-0866FFFC1F45}')"
   ]
  },
  {
   "cell_type": "code",
   "execution_count": 42,
   "metadata": {},
   "outputs": [
    {
     "data": {
      "text/plain": [
       "7"
      ]
     },
     "execution_count": 42,
     "metadata": {},
     "output_type": "execute_result"
    }
   ],
   "source": [
    "len(interface_all)"
   ]
  },
  {
   "cell_type": "code",
   "execution_count": 43,
   "metadata": {},
   "outputs": [
    {
     "data": {
      "text/plain": [
       "'{772E5191-626A-49F3-BDCD-0866FFFC1F45}'"
      ]
     },
     "execution_count": 43,
     "metadata": {},
     "output_type": "execute_result"
    }
   ],
   "source": [
    "a = interface_all[0]\n",
    "a"
   ]
  },
  {
   "cell_type": "code",
   "execution_count": 44,
   "metadata": {},
   "outputs": [
    {
     "data": {
      "text/plain": [
       "'{E439A95A-2075-4DD9-B5C4-2ACCB5DCD695}'"
      ]
     },
     "execution_count": 44,
     "metadata": {},
     "output_type": "execute_result"
    }
   ],
   "source": [
    "b = interface_all[1]\n",
    "b"
   ]
  },
  {
   "cell_type": "code",
   "execution_count": 45,
   "metadata": {},
   "outputs": [
    {
     "data": {
      "text/plain": [
       "'{22B495B6-FB7D-491D-AC0A-83E4E3EA84F6}'"
      ]
     },
     "execution_count": 45,
     "metadata": {},
     "output_type": "execute_result"
    }
   ],
   "source": [
    "c = interface_all[2]\n",
    "c"
   ]
  },
  {
   "cell_type": "code",
   "execution_count": 46,
   "metadata": {},
   "outputs": [
    {
     "data": {
      "text/plain": [
       "'{387CDE24-FA9C-4C46-8182-AC7F3665AC31}'"
      ]
     },
     "execution_count": 46,
     "metadata": {},
     "output_type": "execute_result"
    }
   ],
   "source": [
    "d = interface_all[3]\n",
    "d"
   ]
  },
  {
   "cell_type": "code",
   "execution_count": 47,
   "metadata": {},
   "outputs": [
    {
     "data": {
      "text/plain": [
       "'{654DD818-2C24-4C65-9247-C5942AA32187}'"
      ]
     },
     "execution_count": 47,
     "metadata": {},
     "output_type": "execute_result"
    }
   ],
   "source": [
    "e = interface_all[4]\n",
    "e"
   ]
  },
  {
   "cell_type": "code",
   "execution_count": 48,
   "metadata": {},
   "outputs": [
    {
     "data": {
      "text/plain": [
       "'{367751C4-618B-4395-B4D0-74FD88CD2655}'"
      ]
     },
     "execution_count": 48,
     "metadata": {},
     "output_type": "execute_result"
    }
   ],
   "source": [
    "f = interface_all[5]\n",
    "f"
   ]
  },
  {
   "cell_type": "code",
   "execution_count": 49,
   "metadata": {},
   "outputs": [
    {
     "data": {
      "text/plain": [
       "'{A7CC4605-FFD0-11E9-83E4-806E6F6E6963}'"
      ]
     },
     "execution_count": 49,
     "metadata": {},
     "output_type": "execute_result"
    }
   ],
   "source": [
    "g = interface_all[6]\n",
    "g"
   ]
  },
  {
   "cell_type": "code",
   "execution_count": 50,
   "metadata": {},
   "outputs": [
    {
     "data": {
      "text/plain": [
       "['{772E5191-626A-49F3-BDCD-0866FFFC1F45}',\n",
       " '{E439A95A-2075-4DD9-B5C4-2ACCB5DCD695}',\n",
       " '{22B495B6-FB7D-491D-AC0A-83E4E3EA84F6}',\n",
       " '{387CDE24-FA9C-4C46-8182-AC7F3665AC31}',\n",
       " '{654DD818-2C24-4C65-9247-C5942AA32187}',\n",
       " '{367751C4-618B-4395-B4D0-74FD88CD2655}',\n",
       " '{A7CC4605-FFD0-11E9-83E4-806E6F6E6963}']"
      ]
     },
     "execution_count": 50,
     "metadata": {},
     "output_type": "execute_result"
    }
   ],
   "source": [
    "lis = [a,b,c,d,e,f,g]\n",
    "lis"
   ]
  },
  {
   "cell_type": "code",
   "execution_count": 49,
   "metadata": {},
   "outputs": [
    {
     "data": {
      "text/plain": [
       "7"
      ]
     },
     "execution_count": 49,
     "metadata": {},
     "output_type": "execute_result"
    }
   ],
   "source": [
    "len(lis)"
   ]
  },
  {
   "cell_type": "code",
   "execution_count": 50,
   "metadata": {},
   "outputs": [
    {
     "data": {
      "text/plain": [
       "{-1000: [{'addr': '8c:16:45:9e:fe:91'}],\n",
       " 23: [{'addr': 'fe80::3853:1e6:54f:8803%9',\n",
       "   'netmask': 'ffff:ffff:ffff:ffff::/64',\n",
       "   'broadcast': 'fe80::ffff:ffff:ffff:ffff%9'}]}"
      ]
     },
     "execution_count": 50,
     "metadata": {},
     "output_type": "execute_result"
    }
   ],
   "source": [
    "netifaces.ifaddresses(lis[0])"
   ]
  },
  {
   "cell_type": "code",
   "execution_count": 51,
   "metadata": {},
   "outputs": [
    {
     "name": "stdout",
     "output_type": "stream",
     "text": [
      "{-1000: [{'addr': '8c:16:45:9e:fe:91'}], 23: [{'addr': 'fe80::3853:1e6:54f:8803%9', 'netmask': 'ffff:ffff:ffff:ffff::/64', 'broadcast': 'fe80::ffff:ffff:ffff:ffff%9'}]}\n",
      "{-1000: [{'addr': '0a:00:27:00:00:14'}], 23: [{'addr': 'fe80::5c80:cd92:b97e:2591%20', 'netmask': 'ffff:ffff:ffff:ffff::/64', 'broadcast': 'fe80::ffff:ffff:ffff:ffff%20'}], 2: [{'addr': '192.168.56.1', 'netmask': '255.255.255.0', 'broadcast': '192.168.56.255'}]}\n",
      "{-1000: [{'addr': 'b2:fc:36:6c:83:27'}], 23: [{'addr': 'fe80::2c9a:2cf4:e920:9ed4%4', 'netmask': 'ffff:ffff:ffff:ffff::/64', 'broadcast': 'fe80::ffff:ffff:ffff:ffff%4'}]}\n",
      "{-1000: [{'addr': 'b0:fc:36:6c:83:27'}], 23: [{'addr': 'fe80::a1d2:4336:fa55:a49d%7', 'netmask': 'ffff:ffff:ffff:ffff::/64', 'broadcast': 'fe80::ffff:ffff:ffff:ffff%7'}]}\n",
      "{-1000: [{'addr': 'b0:fc:36:6c:83:27'}], 23: [{'addr': 'fe80::fc90:5fee:f8c5:6792%8', 'netmask': 'ffff:ffff:ffff:ffff::/64', 'broadcast': 'fe80::ffff:ffff:ffff:ffff%8'}], 2: [{'addr': '192.168.1.97', 'netmask': '255.255.255.0', 'broadcast': '192.168.1.255'}]}\n",
      "{-1000: [{'addr': 'b0:fc:36:6c:83:28'}], 23: [{'addr': 'fe80::5dc5:3641:4ed5:f788%6', 'netmask': 'ffff:ffff:ffff:ffff::/64', 'broadcast': 'fe80::ffff:ffff:ffff:ffff%6'}]}\n",
      "{-1000: [{'addr': ''}], 23: [{'addr': '::1', 'netmask': 'ffff:ffff:ffff:ffff:ffff:ffff:ffff:ffff/128', 'broadcast': '::1'}], 2: [{'addr': '127.0.0.1', 'netmask': '255.0.0.0', 'broadcast': '127.255.255.255'}]}\n"
     ]
    }
   ],
   "source": [
    "n = len(lis)\n",
    "for k in range(n):\n",
    "    print(netifaces.ifaddresses(lis[k]))"
   ]
  },
  {
   "cell_type": "code",
   "execution_count": 52,
   "metadata": {},
   "outputs": [],
   "source": [
    "eth = []\n",
    "for i in range(n):\n",
    "    val = netifaces.ifaddresses(lis[k])\n",
    "    eth.append(val)"
   ]
  },
  {
   "cell_type": "code",
   "execution_count": 53,
   "metadata": {},
   "outputs": [
    {
     "data": {
      "text/plain": [
       "[{-1000: [{'addr': ''}],\n",
       "  23: [{'addr': '::1',\n",
       "    'netmask': 'ffff:ffff:ffff:ffff:ffff:ffff:ffff:ffff/128',\n",
       "    'broadcast': '::1'}],\n",
       "  2: [{'addr': '127.0.0.1',\n",
       "    'netmask': '255.0.0.0',\n",
       "    'broadcast': '127.255.255.255'}]},\n",
       " {-1000: [{'addr': ''}],\n",
       "  23: [{'addr': '::1',\n",
       "    'netmask': 'ffff:ffff:ffff:ffff:ffff:ffff:ffff:ffff/128',\n",
       "    'broadcast': '::1'}],\n",
       "  2: [{'addr': '127.0.0.1',\n",
       "    'netmask': '255.0.0.0',\n",
       "    'broadcast': '127.255.255.255'}]},\n",
       " {-1000: [{'addr': ''}],\n",
       "  23: [{'addr': '::1',\n",
       "    'netmask': 'ffff:ffff:ffff:ffff:ffff:ffff:ffff:ffff/128',\n",
       "    'broadcast': '::1'}],\n",
       "  2: [{'addr': '127.0.0.1',\n",
       "    'netmask': '255.0.0.0',\n",
       "    'broadcast': '127.255.255.255'}]},\n",
       " {-1000: [{'addr': ''}],\n",
       "  23: [{'addr': '::1',\n",
       "    'netmask': 'ffff:ffff:ffff:ffff:ffff:ffff:ffff:ffff/128',\n",
       "    'broadcast': '::1'}],\n",
       "  2: [{'addr': '127.0.0.1',\n",
       "    'netmask': '255.0.0.0',\n",
       "    'broadcast': '127.255.255.255'}]},\n",
       " {-1000: [{'addr': ''}],\n",
       "  23: [{'addr': '::1',\n",
       "    'netmask': 'ffff:ffff:ffff:ffff:ffff:ffff:ffff:ffff/128',\n",
       "    'broadcast': '::1'}],\n",
       "  2: [{'addr': '127.0.0.1',\n",
       "    'netmask': '255.0.0.0',\n",
       "    'broadcast': '127.255.255.255'}]},\n",
       " {-1000: [{'addr': ''}],\n",
       "  23: [{'addr': '::1',\n",
       "    'netmask': 'ffff:ffff:ffff:ffff:ffff:ffff:ffff:ffff/128',\n",
       "    'broadcast': '::1'}],\n",
       "  2: [{'addr': '127.0.0.1',\n",
       "    'netmask': '255.0.0.0',\n",
       "    'broadcast': '127.255.255.255'}]},\n",
       " {-1000: [{'addr': ''}],\n",
       "  23: [{'addr': '::1',\n",
       "    'netmask': 'ffff:ffff:ffff:ffff:ffff:ffff:ffff:ffff/128',\n",
       "    'broadcast': '::1'}],\n",
       "  2: [{'addr': '127.0.0.1',\n",
       "    'netmask': '255.0.0.0',\n",
       "    'broadcast': '127.255.255.255'}]}]"
      ]
     },
     "execution_count": 53,
     "metadata": {},
     "output_type": "execute_result"
    }
   ],
   "source": [
    "eth"
   ]
  },
  {
   "cell_type": "code",
   "execution_count": 54,
   "metadata": {},
   "outputs": [
    {
     "data": {
      "text/plain": [
       "{-1000: [{'addr': ''}],\n",
       " 23: [{'addr': '::1',\n",
       "   'netmask': 'ffff:ffff:ffff:ffff:ffff:ffff:ffff:ffff/128',\n",
       "   'broadcast': '::1'}],\n",
       " 2: [{'addr': '127.0.0.1',\n",
       "   'netmask': '255.0.0.0',\n",
       "   'broadcast': '127.255.255.255'}]}"
      ]
     },
     "execution_count": 54,
     "metadata": {},
     "output_type": "execute_result"
    }
   ],
   "source": [
    "eth0 = eth[0]\n",
    "eth0"
   ]
  },
  {
   "cell_type": "code",
   "execution_count": null,
   "metadata": {},
   "outputs": [],
   "source": [
    "packet_4 = IP(dst=\"127.0.0.1\",src=\"192.168.1.45\")/TCP(dport=80, flags=\"S\")"
   ]
  },
  {
   "cell_type": "code",
   "execution_count": 59,
   "metadata": {},
   "outputs": [],
   "source": [
    "interface = eth0\n",
    "def print_capture_packet(packet):\n",
    "    ip_layer = packet.getlayer(IP)\n",
    "    print(\"[!] New Packet: {src} -> {dst}\".format(src=ip_layer.src, dst=ip_layer.dst))\n",
    "    print(\"[*] Start sniffing...\")\n",
    "    #sniff(iface=interface, filter=\"ip\", prn=print_packet)\n",
    "    sniff(filter=\"ip\", prn=print_capture_packet, timeout=2)\n",
    "    print(\"[*] Stop sniffing\") "
   ]
  },
  {
   "cell_type": "code",
   "execution_count": 60,
   "metadata": {},
   "outputs": [
    {
     "name": "stdout",
     "output_type": "stream",
     "text": [
      "[!] New Packet: 192.168.1.45 -> 127.0.0.1\n",
      "[*] Start sniffing...\n",
      "[!] New Packet: 192.168.1.174 -> 239.255.255.250\n",
      "[*] Start sniffing...\n",
      "[!] New Packet: 192.168.1.174 -> 239.255.255.250\n",
      "[*] Start sniffing...\n",
      "[!] New Packet: 192.168.1.174 -> 239.255.255.250\n",
      "[*] Start sniffing...\n",
      "[!] New Packet: 192.168.1.90 -> 239.255.255.250\n",
      "[*] Start sniffing...\n",
      "[!] New Packet: 192.168.1.97 -> 192.168.1.1\n",
      "[*] Start sniffing...\n",
      "[!] New Packet: 192.168.1.97 -> 52.109.76.32\n",
      "[*] Start sniffing...\n",
      "[!] New Packet: 192.168.1.97 -> 52.109.76.32\n",
      "[*] Start sniffing...\n",
      "[!] New Packet: 13.107.3.128 -> 192.168.1.97\n",
      "[*] Start sniffing...\n",
      "[!] New Packet: 192.168.1.97 -> 51.105.249.239\n",
      "[*] Start sniffing...\n",
      "[!] New Packet: 51.105.249.239 -> 192.168.1.97\n",
      "[*] Start sniffing...\n",
      "[!] New Packet: 192.168.1.97 -> 51.105.249.239\n",
      "[*] Start sniffing...\n",
      "[!] New Packet: 192.168.1.62 -> 224.0.0.251\n",
      "[*] Start sniffing...\n",
      "[!] New Packet: 192.168.1.90 -> 239.255.255.250\n",
      "[*] Start sniffing...\n",
      "[!] New Packet: 13.107.3.128 -> 192.168.1.97\n",
      "[*] Start sniffing...\n",
      "[!] New Packet: 192.168.1.73 -> 239.255.255.250\n",
      "[*] Start sniffing...\n",
      "[!] New Packet: 192.168.1.97 -> 13.107.3.128\n",
      "[*] Start sniffing...\n",
      "[!] New Packet: 13.107.3.128 -> 192.168.1.97\n",
      "[*] Start sniffing...\n",
      "[!] New Packet: 13.107.3.128 -> 192.168.1.97\n",
      "[*] Start sniffing...\n",
      "[!] New Packet: 192.168.1.97 -> 52.109.76.32\n",
      "[*] Start sniffing...\n",
      "[!] New Packet: 192.168.1.73 -> 239.255.255.250\n",
      "[*] Start sniffing...\n",
      "[*] Stop sniffing\n",
      "[*] Stop sniffing\n",
      "[*] Stop sniffing\n",
      "[*] Stop sniffing\n",
      "[*] Stop sniffing\n",
      "[*] Stop sniffing\n",
      "[*] Stop sniffing\n",
      "[*] Stop sniffing\n",
      "[*] Stop sniffing\n",
      "[*] Stop sniffing\n",
      "[*] Stop sniffing\n",
      "[*] Stop sniffing\n",
      "[*] Stop sniffing\n",
      "[*] Stop sniffing\n",
      "[*] Stop sniffing\n",
      "[*] Stop sniffing\n",
      "[*] Stop sniffing\n",
      "[*] Stop sniffing\n",
      "[*] Stop sniffing\n",
      "[*] Stop sniffing\n",
      "[*] Stop sniffing\n"
     ]
    }
   ],
   "source": [
    "print_capture_packet(packet_4)"
   ]
  },
  {
   "cell_type": "code",
   "execution_count": 61,
   "metadata": {},
   "outputs": [],
   "source": [
    "scapyall.sniff?"
   ]
  },
  {
   "cell_type": "code",
   "execution_count": null,
   "metadata": {},
   "outputs": [],
   "source": []
  },
  {
   "cell_type": "code",
   "execution_count": 64,
   "metadata": {},
   "outputs": [],
   "source": [
    "import matplotlib.pyplot as plt"
   ]
  },
  {
   "cell_type": "code",
   "execution_count": 65,
   "metadata": {},
   "outputs": [
    {
     "name": "stdout",
     "output_type": "stream",
     "text": [
      "[!] New Packet: 0.0.0.0 -> 255.255.255.255\n",
      "[*] Start sniffing...\n",
      "[!] New Packet: 192.168.1.97 -> 172.217.168.174\n",
      "[*] Start sniffing...\n",
      "[!] New Packet: 172.217.168.174 -> 192.168.1.97\n",
      "[*] Start sniffing...\n",
      "[!] New Packet: 192.168.1.15 -> 224.0.0.1\n",
      "[*] Start sniffing...\n",
      "[!] New Packet: 192.168.1.97 -> 64.233.184.188\n",
      "[*] Start sniffing...\n",
      "[!] New Packet: 64.233.184.188 -> 192.168.1.97\n",
      "[*] Start sniffing...\n",
      "[!] New Packet: 192.168.1.97 -> 239.255.255.250\n",
      "[*] Start sniffing...\n",
      "[!] New Packet: 192.168.1.133 -> 224.0.0.251\n",
      "[*] Start sniffing...\n",
      "[!] New Packet: 192.168.1.133 -> 224.0.0.251\n",
      "[*] Start sniffing...\n",
      "[!] New Packet: 192.168.1.133 -> 224.0.0.251\n",
      "[*] Start sniffing...\n",
      "[!] New Packet: 192.168.1.97 -> 216.58.201.67\n",
      "[*] Start sniffing...\n",
      "[!] New Packet: 216.58.201.67 -> 192.168.1.97\n",
      "[*] Start sniffing...\n",
      "[!] New Packet: 216.58.201.67 -> 192.168.1.97\n",
      "[*] Start sniffing...\n",
      "[!] New Packet: 192.168.1.97 -> 216.58.201.110\n",
      "[*] Start sniffing...\n",
      "[!] New Packet: 216.58.201.110 -> 192.168.1.97\n",
      "[*] Start sniffing...\n",
      "[!] New Packet: 192.168.1.18 -> 224.0.0.251\n",
      "[*] Start sniffing...\n",
      "[!] New Packet: 192.168.1.133 -> 224.0.0.251\n",
      "[*] Start sniffing...\n",
      "[!] New Packet: 192.168.1.133 -> 224.0.0.251\n",
      "[*] Start sniffing...\n",
      "[!] New Packet: 192.168.1.59 -> 239.255.255.250\n",
      "[*] Start sniffing...\n",
      "[!] New Packet: 192.168.1.59 -> 239.255.255.250\n",
      "[*] Start sniffing...\n",
      "[!] New Packet: 192.168.1.97 -> 149.171.29.10\n",
      "[*] Start sniffing...\n",
      "[!] New Packet: 192.168.1.59 -> 239.255.255.250\n",
      "[*] Start sniffing...\n",
      "[!] New Packet: 192.168.1.97 -> 224.0.0.251\n",
      "[*] Start sniffing...\n",
      "[!] New Packet: 192.168.1.133 -> 224.0.0.251\n",
      "[*] Start sniffing...\n",
      "[!] New Packet: 66.102.1.189 -> 192.168.1.97\n",
      "[*] Start sniffing...\n",
      "[!] New Packet: 192.168.1.97 -> 66.102.1.189\n",
      "[*] Start sniffing...\n",
      "[!] New Packet: 192.168.1.133 -> 224.0.0.251\n",
      "[*] Start sniffing...\n",
      "[!] New Packet: 192.168.1.59 -> 239.255.255.250\n",
      "[*] Start sniffing...\n",
      "[!] New Packet: 192.168.1.99 -> 192.168.1.255\n",
      "[*] Start sniffing...\n",
      "[!] New Packet: 192.168.1.99 -> 192.168.1.255\n",
      "[*] Start sniffing...\n",
      "[!] New Packet: 172.217.23.225 -> 192.168.1.97\n",
      "[*] Start sniffing...\n",
      "[!] New Packet: 192.168.1.99 -> 224.0.0.252\n",
      "[*] Start sniffing...\n",
      "[!] New Packet: 192.168.1.133 -> 192.168.1.255\n",
      "[*] Start sniffing...\n",
      "[!] New Packet: 192.168.1.99 -> 192.168.1.255\n",
      "[*] Start sniffing...\n",
      "[!] New Packet: 192.168.1.59 -> 239.255.255.250\n",
      "[*] Start sniffing...\n",
      "[!] New Packet: 192.168.1.99 -> 192.168.1.255\n",
      "[*] Start sniffing...\n",
      "[!] New Packet: 192.168.1.133 -> 224.0.0.251\n",
      "[*] Start sniffing...\n",
      "[!] New Packet: 192.168.1.77 -> 224.0.0.251\n",
      "[*] Start sniffing...\n",
      "[!] New Packet: 192.168.1.133 -> 224.0.0.251\n",
      "[*] Start sniffing...\n",
      "[!] New Packet: 192.168.1.133 -> 255.255.255.255\n",
      "[*] Start sniffing...\n",
      "[!] New Packet: 192.168.1.59 -> 239.255.255.250\n",
      "[*] Start sniffing...\n",
      "[!] New Packet: 192.168.1.77 -> 224.0.0.251\n",
      "[*] Start sniffing...\n",
      "[!] New Packet: 192.168.1.133 -> 255.255.255.255\n",
      "[*] Start sniffing...\n",
      "[!] New Packet: 192.168.1.133 -> 224.0.0.251\n",
      "[*] Start sniffing...\n",
      "[!] New Packet: 192.168.1.59 -> 239.255.255.250\n",
      "[*] Start sniffing...\n",
      "[!] New Packet: 192.168.1.59 -> 239.255.255.250\n",
      "[*] Start sniffing...\n",
      "[!] New Packet: 192.168.1.59 -> 239.255.255.250\n",
      "[*] Start sniffing...\n",
      "[!] New Packet: 192.168.1.97 -> 192.168.1.1\n",
      "[*] Start sniffing...\n",
      "[!] New Packet: 192.168.1.59 -> 239.255.255.250\n",
      "[*] Start sniffing...\n",
      "[!] New Packet: 192.168.1.1 -> 192.168.1.97\n",
      "[*] Start sniffing...\n",
      "[!] New Packet: 74.125.133.109 -> 192.168.1.97\n",
      "[*] Start sniffing...\n",
      "[!] New Packet: 74.125.133.109 -> 192.168.1.97\n",
      "[*] Start sniffing...\n",
      "[!] New Packet: 192.168.1.59 -> 239.255.255.250\n",
      "[*] Start sniffing...\n",
      "[!] New Packet: 192.168.1.99 -> 192.168.1.255\n",
      "[*] Start sniffing...\n",
      "[!] New Packet: 192.168.1.97 -> 172.217.16.166\n",
      "[*] Start sniffing...\n",
      "[!] New Packet: 192.168.1.99 -> 192.168.1.255\n",
      "[*] Start sniffing...\n",
      "[!] New Packet: 192.168.1.99 -> 192.168.1.255\n",
      "[*] Start sniffing...\n",
      "[!] New Packet: 192.168.1.97 -> 172.217.23.226\n",
      "[*] Start sniffing...\n",
      "[!] New Packet: 172.217.16.166 -> 192.168.1.97\n",
      "[*] Start sniffing...\n",
      "[!] New Packet: 192.168.1.97 -> 172.217.23.238\n",
      "[*] Start sniffing...\n",
      "[!] New Packet: 192.168.1.97 -> 52.109.88.36\n",
      "[*] Start sniffing...\n",
      "[!] New Packet: 192.168.1.97 -> 172.217.23.194\n",
      "[*] Start sniffing...\n",
      "[!] New Packet: 192.168.1.97 -> 216.58.201.110\n",
      "[*] Start sniffing...\n",
      "[!] New Packet: 192.168.1.97 -> 74.125.133.109\n",
      "[*] Start sniffing...\n",
      "[!] New Packet: 74.125.133.109 -> 192.168.1.97\n",
      "[*] Start sniffing...\n",
      "[!] New Packet: 172.217.23.238 -> 192.168.1.97\n",
      "[*] Start sniffing...\n",
      "[!] New Packet: 216.58.201.69 -> 192.168.1.97\n",
      "[*] Start sniffing...\n",
      "[!] New Packet: 192.168.1.97 -> 204.79.197.200\n",
      "[*] Start sniffing...\n",
      "[!] New Packet: 192.168.1.97 -> 216.58.201.69\n",
      "[*] Start sniffing...\n",
      "[!] New Packet: 192.168.1.97 -> 172.217.23.194\n",
      "[*] Start sniffing...\n",
      "[!] New Packet: 192.168.1.97 -> 216.58.201.68\n",
      "[*] Start sniffing...\n",
      "[!] New Packet: 192.168.1.97 -> 216.58.201.99\n",
      "[*] Start sniffing...\n",
      "[!] New Packet: 192.168.1.97 -> 69.173.144.136\n",
      "[*] Start sniffing...\n",
      "[!] New Packet: 192.168.1.59 -> 239.255.255.250\n",
      "[*] Start sniffing...\n",
      "[!] New Packet: 192.168.1.97 -> 74.125.133.109\n",
      "[*] Start sniffing...\n",
      "[!] New Packet: 192.168.1.97 -> 74.125.133.109\n",
      "[*] Start sniffing...\n",
      "[!] New Packet: 69.173.144.136 -> 192.168.1.97\n",
      "[*] Start sniffing...\n",
      "[!] New Packet: 192.168.1.97 -> 74.125.133.109\n",
      "[*] Start sniffing...\n",
      "[!] New Packet: 74.125.133.109 -> 192.168.1.97\n",
      "[*] Start sniffing...\n",
      "[!] New Packet: 74.125.133.109 -> 192.168.1.97\n",
      "[*] Start sniffing...\n",
      "[!] New Packet: 192.168.1.97 -> 108.177.15.109\n",
      "[*] Start sniffing...\n",
      "[!] New Packet: 108.177.15.109 -> 192.168.1.97\n",
      "[*] Start sniffing...\n",
      "[!] New Packet: 108.177.15.109 -> 192.168.1.97\n",
      "[*] Start sniffing...\n",
      "[!] New Packet: 192.168.1.97 -> 74.125.133.109\n",
      "[*] Start sniffing...\n",
      "[!] New Packet: 192.168.1.25 -> 224.0.0.1\n",
      "[*] Start sniffing...\n",
      "[!] New Packet: 192.168.1.18 -> 224.0.0.251\n",
      "[*] Start sniffing...\n",
      "[!] New Packet: 192.168.1.97 -> 216.58.201.110\n",
      "[*] Start sniffing...\n",
      "[!] New Packet: 192.168.1.59 -> 239.255.255.250\n",
      "[*] Start sniffing...\n",
      "[!] New Packet: 192.168.1.59 -> 239.255.255.250\n",
      "[*] Start sniffing...\n",
      "[!] New Packet: 216.58.201.110 -> 192.168.1.97\n",
      "[*] Start sniffing...\n",
      "[!] New Packet: 192.168.1.59 -> 239.255.255.250\n",
      "[*] Start sniffing...\n",
      "[!] New Packet: 192.168.1.99 -> 239.255.255.250\n",
      "[*] Start sniffing...\n",
      "[!] New Packet: 192.168.1.97 -> 149.171.29.10\n",
      "[*] Start sniffing...\n",
      "[!] New Packet: 192.168.1.105 -> 192.168.1.255\n",
      "[*] Start sniffing...\n",
      "[!] New Packet: 192.168.1.97 -> 51.105.249.239\n",
      "[*] Start sniffing...\n",
      "[!] New Packet: 192.168.1.59 -> 239.255.255.250\n",
      "[*] Start sniffing...\n",
      "[!] New Packet: 51.105.249.239 -> 192.168.1.97\n",
      "[*] Start sniffing...\n",
      "[!] New Packet: 192.168.1.97 -> 224.0.0.251\n",
      "[*] Start sniffing...\n",
      "[*] Stop sniffing\n",
      "[*] Stop sniffing\n",
      "[*] Stop sniffing\n",
      "[*] Stop sniffing\n",
      "[*] Stop sniffing\n",
      "[*] Stop sniffing\n",
      "[*] Stop sniffing\n",
      "[*] Stop sniffing\n",
      "[*] Stop sniffing\n",
      "[*] Stop sniffing\n",
      "[*] Stop sniffing\n",
      "[*] Stop sniffing\n",
      "[*] Stop sniffing\n",
      "[*] Stop sniffing\n",
      "[*] Stop sniffing\n",
      "[*] Stop sniffing\n",
      "[*] Stop sniffing\n",
      "[*] Stop sniffing\n",
      "[*] Stop sniffing\n",
      "[*] Stop sniffing\n",
      "[*] Stop sniffing\n",
      "[*] Stop sniffing\n",
      "[*] Stop sniffing\n",
      "[*] Stop sniffing\n",
      "[*] Stop sniffing\n",
      "[*] Stop sniffing\n",
      "[*] Stop sniffing\n",
      "[*] Stop sniffing\n",
      "[*] Stop sniffing\n",
      "[*] Stop sniffing\n",
      "[*] Stop sniffing\n",
      "[*] Stop sniffing\n",
      "[*] Stop sniffing\n",
      "[*] Stop sniffing\n",
      "[*] Stop sniffing\n",
      "[*] Stop sniffing\n",
      "[*] Stop sniffing\n",
      "[*] Stop sniffing\n",
      "[*] Stop sniffing\n",
      "[*] Stop sniffing\n",
      "[*] Stop sniffing\n",
      "[*] Stop sniffing\n",
      "[*] Stop sniffing\n",
      "[*] Stop sniffing\n",
      "[*] Stop sniffing\n",
      "[*] Stop sniffing\n",
      "[*] Stop sniffing\n",
      "[*] Stop sniffing\n",
      "[*] Stop sniffing\n",
      "[*] Stop sniffing\n",
      "[*] Stop sniffing\n",
      "[*] Stop sniffing\n",
      "[*] Stop sniffing\n",
      "[*] Stop sniffing\n",
      "[*] Stop sniffing\n",
      "[*] Stop sniffing\n",
      "[*] Stop sniffing\n",
      "[*] Stop sniffing\n",
      "[*] Stop sniffing\n",
      "[*] Stop sniffing\n",
      "[*] Stop sniffing\n",
      "[*] Stop sniffing\n",
      "[*] Stop sniffing\n",
      "[*] Stop sniffing\n",
      "[*] Stop sniffing\n",
      "[*] Stop sniffing\n",
      "[*] Stop sniffing\n",
      "[*] Stop sniffing\n",
      "[*] Stop sniffing\n",
      "[*] Stop sniffing\n",
      "[*] Stop sniffing\n",
      "[*] Stop sniffing\n",
      "[*] Stop sniffing\n",
      "[*] Stop sniffing\n",
      "[*] Stop sniffing\n",
      "[*] Stop sniffing\n",
      "[*] Stop sniffing\n",
      "[*] Stop sniffing\n",
      "[*] Stop sniffing\n",
      "[*] Stop sniffing\n",
      "[*] Stop sniffing\n",
      "[*] Stop sniffing\n",
      "[*] Stop sniffing\n",
      "[*] Stop sniffing\n",
      "[*] Stop sniffing\n",
      "[*] Stop sniffing\n",
      "[*] Stop sniffing\n",
      "[*] Stop sniffing\n",
      "[*] Stop sniffing\n",
      "[*] Stop sniffing\n",
      "[*] Stop sniffing\n",
      "[*] Stop sniffing\n",
      "[*] Stop sniffing\n",
      "[*] Stop sniffing\n",
      "[*] Stop sniffing\n",
      "[*] Stop sniffing\n",
      "[*] Stop sniffing\n",
      "[*] Stop sniffing\n"
     ]
    },
    {
     "data": {
      "image/png": "[encoded data removed]",
      "text/plain": [
       "<Figure size 432x288 with 1 Axes>"
      ]
     },
     "metadata": {
      "needs_background": "light"
     },
     "output_type": "display_data"
    }
   ],
   "source": [
    "pkt = sniff(filter=\"ip\", prn=print_capture_packet, timeout=2)\n",
    "pkt.plot(lambda x:x[1].id)\n",
    "plt.show()"
   ]
  },
  {
   "cell_type": "code",
   "execution_count": 62,
   "metadata": {},
   "outputs": [
    {
     "name": "stdout",
     "output_type": "stream",
     "text": [
      "Begin emission:\n",
      "Finished sending 500 packets.\n",
      "\n",
      "Received 870 packets, got 0 answers, remaining 500 packets\n"
     ]
    },
    {
     "data": {
      "image/png": "[encoded data removed]",
      "text/plain": [
       "<Figure size 432x288 with 1 Axes>"
      ]
     },
     "metadata": {
      "needs_background": "light"
     },
     "output_type": "display_data"
    }
   ],
   "source": [
    "ans, unans = sr(IP(dst=\"127.0.0.1\")/TCP(sport=[RandShort()]*500))\n",
    "ans.plot(lambda x:x[1].id)\n",
    "plt.xlabel(\"127.0.0.1\")\n",
    "plt.show()"
   ]
  },
  {
   "cell_type": "code",
   "execution_count": 56,
   "metadata": {},
   "outputs": [
    {
     "name": "stdout",
     "output_type": "stream",
     "text": [
      "Begin emission:\n",
      "Finished sending 500 packets.\n",
      "\n",
      "Received 8435 packets, got 488 answers, remaining 12 packets\n"
     ]
    },
    {
     "data": {
      "image/png": "[encoded data removed]",
      "text/plain": [
       "<Figure size 432x288 with 1 Axes>"
      ]
     },
     "metadata": {
      "needs_background": "light"
     },
     "output_type": "display_data"
    }
   ],
   "source": [
    "ans, unans = sr(IP(dst=\"www.google.com\")/TCP(sport=[RandShort()]*500))\n",
    "ans.plot(lambda x:x[1].id)\n",
    "plt.xlabel(\"www.google.com\")\n",
    "plt.show()"
   ]
  },
  {
   "cell_type": "code",
   "execution_count": 57,
   "metadata": {},
   "outputs": [
    {
     "name": "stdout",
     "output_type": "stream",
     "text": [
      "Begin emission:\n",
      "Finished sending 500 packets.\n",
      "\n",
      "Received 22371 packets, got 496 answers, remaining 4 packets\n"
     ]
    },
    {
     "data": {
      "image/png": "[encoded data removed]",
      "text/plain": [
       "<Figure size 432x288 with 1 Axes>"
      ]
     },
     "metadata": {
      "needs_background": "light"
     },
     "output_type": "display_data"
    }
   ],
   "source": [
    "ans, unans = sr(IP(dst=\"www.yahoo.fr\")/TCP(sport=[RandShort()]*500))\n",
    "ans.plot(lambda x:x[1].id)\n",
    "plt.xlabel(\"www.yahoo.fr\")\n",
    "plt.show()"
   ]
  },
  {
   "cell_type": "code",
   "execution_count": null,
   "metadata": {},
   "outputs": [],
   "source": []
  },
  {
   "cell_type": "code",
   "execution_count": null,
   "metadata": {},
   "outputs": [],
   "source": []
  },
  {
   "cell_type": "code",
   "execution_count": null,
   "metadata": {},
   "outputs": [],
   "source": []
  }
 ],
 "metadata": {
  "kernelspec": {
   "display_name": "Python 3",
   "language": "python",
   "name": "python3"
  },
  "language_info": {
   "codemirror_mode": {
    "name": "ipython",
    "version": 3
   },
   "file_extension": ".py",
   "mimetype": "text/x-python",
   "name": "python",
   "nbconvert_exporter": "python",
   "pygments_lexer": "ipython3",
   "version": "3.7.3"
  }
 },
 "nbformat": 4,
 "nbformat_minor": 2
}
